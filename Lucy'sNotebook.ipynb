{
 "cells": [
  {
   "cell_type": "markdown",
   "metadata": {},
   "source": [
    "# Lucy's Notebook\n",
    "\n",
    "Best neighborhood for courts and rinks\n",
    "https://data.wprdc.org/datastore/dump/a5b71bfa-840c-4c86-8f43-07a9ae854227"
   ]
  },
  {
   "cell_type": "code",
   "execution_count": 4,
   "metadata": {},
   "outputs": [
    {
     "data": {
      "text/plain": [
       "neighborhood\n",
       "Allegheny Center       9\n",
       "Allentown              1\n",
       "Banksville             3\n",
       "Bedford Dwellings      2\n",
       "Beechview              7\n",
       "                      ..\n",
       "Terrace Village        5\n",
       "Troy Hill              8\n",
       "Upper Hill             1\n",
       "Upper Lawrenceville    2\n",
       "West End               2\n",
       "Name: id, Length: 63, dtype: int64"
      ]
     },
     "execution_count": 4,
     "metadata": {},
     "output_type": "execute_result"
    }
   ],
   "source": [
    "import pandas as pd\n",
    "\n",
    "data = pd.read_csv(\"CourtsAndRinks.csv\")\n",
    "\n",
    "# count number of courts and rinks in each neighborhood\n",
    "data.groupby(\"neighborhood\")['id'].count()"
   ]
  },
  {
   "cell_type": "code",
   "execution_count": 3,
   "metadata": {},
   "outputs": [
    {
     "data": {
      "text/plain": [
       "type\n",
       "Basketball (Full)    88\n",
       "Basketball (Half)    23\n",
       "Bocce                 8\n",
       "Dek Hockey            5\n",
       "General Sports        6\n",
       "Hockey               14\n",
       "Horseshoe Pit         2\n",
       "Lawn Bowling          2\n",
       "Pickleball           12\n",
       "Street Hockey         8\n",
       "Tennis               73\n",
       "Volleyball            5\n",
       "Name: id, dtype: int64"
      ]
     },
     "execution_count": 3,
     "metadata": {},
     "output_type": "execute_result"
    }
   ],
   "source": [
    "# find out how many different types of courts there are\n",
    "data.groupby(\"type\")['id'].count()"
   ]
  },
  {
   "cell_type": "code",
   "execution_count": null,
   "metadata": {},
   "outputs": [],
   "source": []
  }
 ],
 "metadata": {
  "kernelspec": {
   "display_name": "Python 3",
   "language": "python",
   "name": "python3"
  },
  "language_info": {
   "codemirror_mode": {
    "name": "ipython",
    "version": 3
   },
   "file_extension": ".py",
   "mimetype": "text/x-python",
   "name": "python",
   "nbconvert_exporter": "python",
   "pygments_lexer": "ipython3",
   "version": "3.8.3"
  }
 },
 "nbformat": 4,
 "nbformat_minor": 4
}
